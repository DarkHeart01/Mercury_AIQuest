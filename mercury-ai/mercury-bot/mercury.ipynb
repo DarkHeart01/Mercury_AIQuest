{
 "cells": [
  {
   "cell_type": "markdown",
   "metadata": {},
   "source": [
    "Model Training File"
   ]
  },
  {
   "cell_type": "markdown",
   "metadata": {},
   "source": [
    "importing required libraries"
   ]
  },
  {
   "cell_type": "code",
   "execution_count": 5,
   "metadata": {},
   "outputs": [
    {
     "name": "stderr",
     "output_type": "stream",
     "text": [
      "c:\\Users\\sara_\\AppData\\Local\\Programs\\Python\\Python313\\Lib\\site-packages\\tqdm\\auto.py:21: TqdmWarning: IProgress not found. Please update jupyter and ipywidgets. See https://ipywidgets.readthedocs.io/en/stable/user_install.html\n",
      "  from .autonotebook import tqdm as notebook_tqdm\n"
     ]
    }
   ],
   "source": [
    "import os\n",
    "import google.generativeai as genai\n",
    "from dotenv import load_dotenv\n",
    "import json\n",
    "import time\n",
    "import pandas as pd\n",
    "import seaborn as sns"
   ]
  },
  {
   "cell_type": "markdown",
   "metadata": {},
   "source": [
    "setting up api key as environment variable"
   ]
  },
  {
   "cell_type": "code",
   "execution_count": 6,
   "metadata": {},
   "outputs": [
    {
     "data": {
      "text/plain": [
       "True"
      ]
     },
     "execution_count": 6,
     "metadata": {},
     "output_type": "execute_result"
    }
   ],
   "source": [
    "load_dotenv('api_key.env')"
   ]
  },
  {
   "cell_type": "code",
   "execution_count": 7,
   "metadata": {},
   "outputs": [],
   "source": [
    "api_key = os.environ.get('GENAI_API_KEY')"
   ]
  },
  {
   "cell_type": "code",
   "execution_count": 8,
   "metadata": {},
   "outputs": [],
   "source": [
    "genai.configure(api_key=api_key)"
   ]
  },
  {
   "cell_type": "markdown",
   "metadata": {},
   "source": [
    "list of tuned models"
   ]
  },
  {
   "cell_type": "code",
   "execution_count": 46,
   "metadata": {},
   "outputs": [
    {
     "name": "stdout",
     "output_type": "stream",
     "text": [
      "tunedModels/mercury-adhhc1b6yksy\n",
      "tunedModels/mercury-vpmzvtplbrrt\n",
      "tunedModels/mercury-t7ytex3p625n\n",
      "tunedModels/mercury-4carel57u8nz\n",
      "tunedModels/mercury-x71oyrk7fgc6\n"
     ]
    }
   ],
   "source": [
    "for model_info in genai.list_tuned_models():\n",
    "    print(model_info.name)"
   ]
  },
  {
   "cell_type": "markdown",
   "metadata": {},
   "source": [
    "reading data from json file"
   ]
  },
  {
   "cell_type": "code",
   "execution_count": 47,
   "metadata": {},
   "outputs": [],
   "source": [
    "def load_jsonl_data(file_path):\n",
    "    data = []\n",
    "    with open(file_path, 'r') as f:\n",
    "        for line in f:\n",
    "            data.append(json.loads(line))\n",
    "    return data"
   ]
  },
  {
   "cell_type": "code",
   "execution_count": 48,
   "metadata": {},
   "outputs": [],
   "source": [
    "training_data = load_jsonl_data(\"query_response.jsonl\")"
   ]
  },
  {
   "cell_type": "code",
   "execution_count": 49,
   "metadata": {},
   "outputs": [
    {
     "name": "stdout",
     "output_type": "stream",
     "text": [
      "[{'query': \"What's your name?\", 'response': \"Hello! I'm Mercury, your go-to assistant for any company-related queries. Think of me as your personal guide to navigating company processes.\"}, {'query': 'What exactly do you do?', 'response': \"I'm here to make your work life easier. I efficiently handle employee queries, provide quick access to company policies and resources, and curate answers based on collective knowledge from the company forum.\"}, {'query': 'How can you help me?', 'response': 'I can assist with understanding policies, navigating processes, finding resources, and even answering day-to-day queries. If youâ€™re stuck, just ask me!'}, {'query': 'Are you available 24/7?', 'response': 'Absolutely! Iâ€™m always here to assist you, whether itâ€™s day or night, weekday or weekend. Just let me know what you need.'}, {'query': 'Can you handle technical issues?', 'response': 'I can guide you through common troubleshooting steps or connect you with the right team if itâ€™s something that requires deeper expertise.'}, {'query': 'How do you know the answers to everything?', 'response': 'Iâ€™m powered by a wealth of company knowledge, including policies, guidelines, and employee forums. Plus, Iâ€™m always learning from new interactions.'}, {'query': 'Can you tell jokes?', 'response': 'Of course! Hereâ€™s one: Why donâ€™t we ever tell secrets on company calls? Because the walls might have *ears*! Need help or another laugh?'}, {'query': 'Can I ask you anything?', 'response': 'Absolutely! Iâ€™m here to help with any company-related queriesâ€”policies, processes, or even just how things work around here. Go ahead and ask!'}, {'query': 'Do you ever make mistakes?', 'response': 'I strive to be accurate, but Iâ€™m always learning. If something seems off, feel free to let me know, and Iâ€™ll make sure itâ€™s corrected.'}, {'query': 'Why were you named Mercury?', 'response': 'Great question! Like the Roman messenger god Mercury, Iâ€™m swift, reliable, and here to deliver the answers you need to keep things moving smoothly.'}, {'query': 'What are the main responsibilities of my role in the finance department?', 'response': 'Your role involves preparing financial reports, managing budgets, analyzing financial data, ensuring compliance with regulations, and assisting with audits. You may also support forecasting and financial modeling tasks.'}, {'query': 'What tools and software are commonly used in our department?', 'response': 'We use tools like Excel for analysis, SAP for enterprise resource planning, QuickBooks for accounting, and Power BI for data visualization. Youâ€™ll also work with databases and industry-specific tools.'}, {'query': 'How do we ensure compliance with financial regulations?', 'response': 'Compliance is achieved by staying updated on laws like IFRS, GAAP, and local tax laws. We have periodic audits, a checklist for compliance, and regular training sessions for the team.'}, {'query': 'How do we handle discrepancies in financial reports?', 'response': 'First, identify the source of the discrepancy through detailed checks. Collaborate with other departments to verify records, then document findings and take corrective measures.'}, {'query': 'What are the expectations for meeting deadlines here?', 'response': 'Timeliness is crucial in finance, as reports often tie into key business decisions. Ensure you plan ahead, prioritize tasks, and communicate proactively if delays arise.'}, {'query': 'How is success measured in this role?', 'response': 'Success is measured by the accuracy and timeliness of financial reporting, your ability to analyze and provide insights, and how well you support budgeting and forecasting processes.'}, {'query': 'Can you tell me more about the budgeting and forecasting process here?', 'response': 'The process involves collecting data from all departments, analyzing historical trends, and collaborating with stakeholders to create realistic projections. Youâ€™ll help track actuals vs. projections monthly.'}, {'query': 'What opportunities for growth exist within the department?', 'response': 'Growth opportunities include transitioning to specialized roles like financial analyst, moving into leadership positions, or obtaining certifications like CFA or CPA.'}, {'query': 'How do we collaborate with other departments?', 'response': 'We interact with sales for revenue data, HR for payroll expenses, and operations for cost analysis. Regular cross-departmental meetings ensure alignment.'}, {'query': 'What challenges does the finance department typically face, and how do we address them?', 'response': 'Challenges include managing tight deadlines, adapting to regulatory changes, and ensuring data accuracy. We address these through proactive planning, regular updates, and leveraging technology to automate tasks.'}, {'query': 'How do I set up the development environment for the project?', 'response': 'Techs: Node.js, TypeScript, Docker\\nInstall Node.js (LTS version) and ensure TypeScript is globally installed (npm install -g typescript).\\nUse Docker to create isolated containers for development. Pull the projectâ€™s Docker image using docker-compose up.\\nConfigure environment variables (e.g., .env file) locally for development purposes.'}, {'query': 'How do I deploy the product to a cloud provider (AWS Lambda, Google Cloud Functions, etc.)?', 'response': 'Techs: AWS SAM, Serverless Framework, Terraform\\nUse AWS SAM or the Serverless Framework to package and deploy serverless functions.\\nSet up AWS credentials locally or through an IAM role for automated deployments.\\nDeployment steps typically include:\\nBuild the project (npm run build).\\nPackage using sam package or serverless package.\\nDeploy using sam deploy or serverless deploy.'}, {'query': 'What CI/CD pipeline is in place, and how do I trigger or monitor deployments?', 'response': 'Techs: GitHub Actions, Jenkins, AWS CodePipeline\\nGitHub Actions is configured for CI/CD:\\nIt builds, tests, and deploys code upon each push or pull request merge.\\nSecrets for deployment are stored securely in GitHub Secrets.\\nFor monitoring:\\nGitHub Actions logs are accessible in the \"Actions\" tab.\\nExternal tools like Datadog or Prometheus can monitor deployments.'}, {'query': 'What is the architecture of the project?', 'response': 'Techs: Microservices, Serverless, Kubernetes (optional), REST APIs\\nCore components:\\nAPI Gateway: Handles incoming HTTP requests and routes them to serverless functions.\\nServerless Functions: Hosted on AWS Lambda, these handle business logic.\\nDatabase: Managed databases (e.g., Amazon RDS, DynamoDB).\\nCI/CD: Automates testing and deployments.\\nThe architecture ensures low latency and horizontal scaling.'}, {'query': 'What are the backup and disaster recovery plans for the service?', 'response': 'Techs: AWS Backup, S3, RDS Snapshots\\nRegular backups of databases (e.g., using RDS automated snapshots or DynamoDB backups).\\nUse S3 versioning for backing up configuration files and logs.\\nDisaster recovery:\\nInfrastructure-as-Code (IaC) tools like Terraform or AWS CloudFormation enable quick restoration of infrastructure.\\nMonitor backups using AWS Backup or third-party tools.'}, {'query': 'How to configure our monitoring tools?', 'response': 'Techs: CloudWatch, Prometheus, Grafana, Datadog\\nCloudWatch (for AWS):\\nEnable monitoring for Lambda functions and API Gateway.\\nCreate custom metrics to track cold start times and memory usage.\\nPrometheus & Grafana:\\nSet up Prometheus to scrape metrics from the system.\\nVisualize performance metrics and alerts in Grafana.\\nIntegrate with Slack or PagerDuty for incident notifications.'}, {'query': 'What platform are we using to host/store our code?', 'response': 'Techs: GitHub\\nThe project is hosted on GitHub in a private repository.\\nAccess is managed using GitHub Teams, with role-based permissions for contributors, maintainers, and reviewers.'}, {'query': 'How do we handle pull request reviews and approvals effectively?', 'response': 'Techs: GitHub Workflows, Code Review Tools\\nImplement branch protection rules:\\nRequire at least one code review approval before merging.\\nAutomatically trigger tests via GitHub Actions for each pull request.\\nUse tools like Reviewable or GitHubâ€™s inline comments for effective collaboration.'}, {'query': 'Whatâ€™s the best approach for handling sensitive data (API keys, passwords, etc.) in GitHub repositories?', 'response': 'Techs: AWS Secrets Manager, GitHub Secrets\\nNever hardcode secrets in the codebase. Use:\\nGitHub Secrets to store environment variables for CI/CD workflows.\\nAWS Secrets Manager or Parameter Store to inject secrets into serverless functions during runtime.'}, {'query': 'How do we ensure the scalability and maintainability of the application as it grows?', 'response': 'Techs: Kubernetes (optional), AWS Lambda, DynamoDB, Auto Scaling\\nScalability:\\nUse AWS Lambdaâ€™s auto-scaling feature for serverless functions.\\nLeverage DynamoDB with auto-scaling for write/read capacity.\\nMaintainability:\\nModularize code with clear responsibilities for each service.\\nUse TypeScript interfaces and strict typing for clean, maintainable code.'}, {'query': 'How do I submit an idea for a new marketing campaign?', 'response': 'Submit your campaign idea through the internal project management tool, where it will be reviewed by the marketing team for feasibility and alignment with current goals.'}, {'query': 'What tools do we use for email marketing campaigns?', 'response': 'The marketing department uses tools like Mailchimp, HubSpot, and Marketo for creating, automating, and analyzing email campaigns.'}, {'query': 'How do I get approval for external advertising?', 'response': 'All external advertising materials must be approved by the marketing director. Submit your designs or campaign briefs to them for review and feedback.'}, {'query': 'What are the guidelines for branding and visual identity?', 'response': 'The marketing team has a brand guidelines document outlining logo usage, color schemes, typography, and other visual standards. This can be accessed on the internal resources page.'}, {'query': 'How do I coordinate with the sales team for lead generation?', 'response': 'Coordinate with the sales team by scheduling regular meetings or using the CRM platform to ensure alignment on lead scoring, follow-ups, and lead nurturing strategies.'}, {'query': 'How do I request a market research report?', 'response': 'You can request a market research report by submitting a form through the internal portal or contacting the research team directly for specific data or insights.'}, {'query': 'What are the deadlines for submitting content for the company newsletter?', 'response': 'Content for the company newsletter must be submitted by the 15th of each month to allow time for review, editing, and final approval.'}, {'query': 'How can I collaborate with influencers for a marketing campaign?', 'response': 'To collaborate with influencers, submit a proposal outlining the campaign objectives. The influencer relations team will review, negotiate, and coordinate the partnership.'}, {'query': 'Where can I find analytics reports for digital advertising campaigns?', 'response': 'Analytics reports for digital advertising campaigns can be accessed through our ad management platforms like Google Ads, Facebook Ads Manager, and the marketing dashboard.'}, {'query': 'How do I request branded merchandise for a marketing event?', 'response': 'To request branded merchandise, fill out a request form on the marketing portal with details about the event and the items you need. Allow at least 2 weeks for processing.'}, {'query': 'How do I apply for leave?', 'response': \"You can apply for leave through the HR portal by selecting the 'Leave Request' option and filling in the required details, including dates and reason for leave.\"}, {'query': 'Where can I find the companyâ€™s holiday calendar?', 'response': 'The companyâ€™s holiday calendar is available on the intranet under the HR section or on the employee portal.'}, {'query': 'How do I update my personal information in the HR records?', 'response': \"You can update your personal information by logging into the HR portal and navigating to the 'Profile Update' section. For major changes, contact the HR team.\"}, {'query': 'What is the process for reporting workplace harassment?', 'response': 'Report workplace harassment by submitting a confidential complaint through the HR grievance portal or directly contacting the HR representative responsible for handling such cases.'}, {'query': 'How do I access my payslips?', 'response': \"Payslips are available in the HR portal under the 'Payroll' section. You can download monthly payslips from there.\"}, {'query': 'What are the steps to claim reimbursement for work-related expenses?', 'response': 'Submit your reimbursement claim through the expense management system. Attach scanned receipts and a brief description of the expenses.'}, {'query': 'How can I get a letter of employment or experience certificate?', 'response': \"Request a letter of employment or experience certificate through the HR portal under 'Employee Services.' Processing typically takes 3-5 business days.\"}, {'query': 'What training programs are available for employees?', 'response': 'HR offers training programs on leadership, communication, technical skills, and compliance. Details and schedules are available on the training portal.'}, {'query': 'How do I refer someone for a job opening?', 'response': 'Refer a candidate by submitting their resume through the employee referral program section on the HR portal. Include the job title theyâ€™re applying for.'}, {'query': 'What is the policy for remote work or flexible hours?', 'response': 'The companyâ€™s remote work and flexible hours policy can be found in the employee handbook. Discuss specific arrangements with your manager and seek approval through HR.'}, {'query': \"I'd like to resign. What notice am I supposed to provide to the company?\", 'response': \"Mercury is sorry to see you leave. We advise you to speak with your superiors prior to making the decision. You need to give 3 weeks' notice to them and submit a letter of resignation to the Employment Status section of the HR department.\"}, {'query': 'How do I report a change in my banking details for salary deposits?', 'response': \"Submit your updated banking details through the HR portal under the 'Payroll' section. Alternatively, you can provide the new information directly to the Payroll team.\"}, {'query': 'What benefits am I eligible for as a full-time employee?', 'response': 'Full-time employees are eligible for health insurance, retirement contributions, paid time off, and other benefits. Details are outlined in the employee handbook or on the benefits portal.'}, {'query': 'What is the process to request maternity or paternity leave?', 'response': 'You can request maternity or paternity leave by submitting the appropriate leave form through the HR portal at least 4 weeks in advance. Approval from your manager and HR is required.'}, {'query': 'How do I access my performance review results?', 'response': \"Performance review results are accessible through the HR portal under the 'Performance' section. You will also receive a detailed report during your review meeting with your manager.\"}, {'query': 'What is the companyâ€™s dress code policy?', 'response': 'The company follows a business casual dress code, with formal attire required for client-facing roles or events. Details are available in the employee handbook.'}, {'query': 'How do I request a transfer to another department or office?', 'response': 'Submit a transfer request form through the HR portal, including your reasons and desired position or location. HR will coordinate with your current and potential managers for approval.'}, {'query': 'What is the probation period policy for new employees?', 'response': 'The probation period for new employees is 6 months. During this time, performance is reviewed, and feedback is provided before confirmation of permanent employment.'}, {'query': 'How do I retrieve my tax forms for the financial year?', 'response': \"Tax forms are available for download on the HR portal under the 'Tax Documents' section. If you face issues, contact the Payroll team for assistance.\"}, {'query': 'How do I apply for an internal promotion or job opening?', 'response': 'Check the HR portal for internal job postings. Apply through the internal application system, attaching an updated resume and any relevant documentation.'}, {'query': 'What is the process for launching a new product campaign?', 'response': 'To launch a new product campaign, collaborate with the marketing team to develop a strategy. Submit your proposal and timeline to the campaign manager for review and approval.'}, {'query': 'How can I get access to the social media accounts for posting content?', 'response': 'Access to the companyâ€™s social media accounts is managed by the social media team. Submit a request through the internal portal specifying the purpose and content to be posted.'}, {'query': 'What are the best practices for writing email subject lines?', 'response': \"Best practices include keeping the subject line short, using actionable language, personalizing when possible, and avoiding spam trigger words like 'free' or 'urgent'.\"}, {'query': 'How do I measure the success of a marketing campaign?', 'response': 'Measure success by tracking key performance indicators (KPIs) such as engagement rates, conversion rates, ROI, and lead generation through analytics tools like Google Analytics or HubSpot.'}, {'query': 'Where can I find the list of approved vendors for marketing materials?', 'response': \"The list of approved vendors can be accessed on the internal procurement portal under the 'Marketing Vendors' section.\"}, {'query': 'How do I submit a request for a custom graphic design?', 'response': \"Submit a custom design request through the graphic design team's request form, specifying the type of design, dimensions, and any required brand elements.\"}, {'query': 'What is the workflow for organizing a corporate event?', 'response': 'The workflow includes planning with the events team, securing a budget, selecting a venue, coordinating with vendors, and promoting the event through internal and external channels.'}, {'query': 'How do I report an issue with the company website?', 'response': 'Report website issues to the web development team through the IT support portal. Provide a detailed description of the issue and any screenshots if applicable.'}, {'query': 'What channels do we use for digital advertising?', 'response': 'The company uses channels like Google Ads, Facebook Ads, LinkedIn Ads, and programmatic platforms for digital advertising campaigns.'}, {'query': 'How do I suggest updates to the companyâ€™s marketing strategy?', 'response': 'To suggest updates, prepare a document outlining your recommendations and supporting data, and present it during the monthly marketing team meeting or submit it to the strategy lead.'}, {'query': 'What databases are being used for different services?', 'response': 'Techs: DynamoDB, RDS, ElasticSearch\\nDynamoDB: For serverless, low-latency key-value storage.\\nAmazon RDS (PostgreSQL/MySQL): For relational data and analytics.\\nElasticSearch: For search and indexing capabilities, such as querying logs or application data.'}, {'query': 'How do we set up a local environment for testing microservices?', 'response': 'Use Docker Compose to spin up all microservices locally. Pull the latest images from the repository or build them locally. Configure a shared network between the containers and bind necessary ports for communication. Use environment variables for any secrets or configurations.'}, {'query': 'What standards are followed for REST API design in the project?', 'response': 'We follow RESTful principles, using meaningful resource-based URLs, HTTP methods like GET, POST, PUT, DELETE, and standardized response codes. JSON is the preferred data format, and endpoints are versioned (e.g., /api/v1/resource).'}, {'query': 'How do we integrate third-party APIs securely?', 'response': 'Use OAuth2 for authentication when available. Store API keys securely in AWS Secrets Manager or GitHub Secrets, and never expose them in the codebase. Implement rate-limiting and retries in case of failure to handle API quotas gracefully.'}, {'query': 'What coding standards should developers follow?', 'response': 'Follow ESLint rules for JavaScript/TypeScript projects and Prettier for formatting. Ensure all functions are modular and avoid hardcoding values. Document functions with JSDoc or a similar tool. All code should pass the CI checks before being merged.'}, {'query': 'What are the best practices for logging in the application?', 'response': 'Use a logging library like Winston or Bunyan for structured logging. Log all errors with sufficient details for debugging. Avoid logging sensitive data. Set different log levels (info, warn, error) and send logs to a centralized system like AWS CloudWatch or Elasticsearch for monitoring.'}, {'query': 'What steps are involved in onboarding new developers?', 'response': 'Provide access to the repository, credentials for necessary tools, and onboarding documentation. Set up a 1-on-1 walkthrough of the project architecture. Assign a mentor for the first month to guide through processes and code reviews.'}, {'query': 'How do we perform load testing for the application?', 'response': 'Use tools like Apache JMeter or k6 for simulating traffic. Test critical endpoints under expected and peak load scenarios. Analyze results for latency, throughput, and error rates. Based on the results, optimize bottlenecks in code or infrastructure.'}, {'query': 'What policies are in place for error handling and retries in the application?', 'response': 'All API calls must implement retry logic with exponential backoff. Catch and log all exceptions. Return standardized error responses with error codes and messages for the frontend to handle gracefully.'}, {'query': 'What measures are in place for security in the project?', 'response': 'Use HTTPS for all communications and secure configurations in environment variables. Apply input validation to prevent SQL injection and XSS. Implement access control checks on sensitive endpoints. Regularly update dependencies to patch vulnerabilities.'}, {'query': 'How does our department handle cash flow management?', 'response': 'We monitor incoming and outgoing cash daily, maintain a buffer for unexpected expenses, and prepare cash flow forecasts to ensure liquidity. This involves collaborating with accounts receivable and accounts payable teams.'}, {'query': 'What steps are taken to mitigate financial risks?', 'response': 'Risk mitigation involves regular risk assessments, diversifying investments, setting credit limits, and using hedging strategies to protect against market volatility. Periodic reviews of risk controls are also conducted.'}, {'query': 'What is the process for financial report consolidation?', 'response': 'We collect individual reports from different units, adjust for inter-company transactions, and use tools like SAP or Oracle to generate consolidated financial statements.'}, {'query': 'How are investment decisions made within the company?', 'response': 'Investment decisions are based on thorough cost-benefit analyses, ROI evaluations, and alignment with company objectives. Stakeholders review proposals, and approvals are obtained from senior management.'}, {'query': 'How does the department prepare for external audits?', 'response': 'Preparation involves organizing financial documents, ensuring compliance with regulations, reconciling accounts, and addressing potential discrepancies in advance of the audit process.'}, {'query': 'What is our approach to expense tracking and control?', 'response': 'Expenses are tracked using software that categorizes spending, flags unusual patterns, and provides real-time reporting. Departmental budgets are reviewed monthly to ensure adherence.'}, {'query': 'What are the procedures for managing tax filings?', 'response': 'Tax filings are managed by compiling necessary documentation, adhering to deadlines, and working with external consultants to ensure compliance with local and international tax laws.'}, {'query': 'What role does financial modeling play in decision-making?', 'response': 'Financial models help predict future outcomes by analyzing historical data and various scenarios. They guide key decisions, including budgeting, project evaluation, and market expansion.'}, {'query': 'How are capital expenditures planned and monitored?', 'response': 'Capital expenditure planning involves evaluating project proposals, calculating ROI, and approving budgets. Progress is tracked against the plan, and adjustments are made as needed.'}, {'query': 'What strategies are used for debt management?', 'response': 'Debt management includes maintaining an optimal debt-to-equity ratio, negotiating favorable terms with lenders, and ensuring timely payments to protect the companyâ€™s credit rating.'}]\n"
     ]
    }
   ],
   "source": [
    "print(training_data)"
   ]
  },
  {
   "cell_type": "markdown",
   "metadata": {},
   "source": [
    "specifying base model for tuning"
   ]
  },
  {
   "cell_type": "code",
   "execution_count": 55,
   "metadata": {},
   "outputs": [],
   "source": [
    "base_model = 'models/gemini-1.5-flash-001-tuning'"
   ]
  },
  {
   "cell_type": "markdown",
   "metadata": {},
   "source": [
    "tuning the model"
   ]
  },
  {
   "cell_type": "code",
   "execution_count": 56,
   "metadata": {},
   "outputs": [
    {
     "name": "stderr",
     "output_type": "stream",
     "text": [
      "100%|██████████| 450/450 [42:18<00:00,  5.64s/it]\n"
     ]
    }
   ],
   "source": [
    "operation = genai.create_tuned_model(\n",
    "    display_name = \"Mercury\",\n",
    "    source_model = base_model,\n",
    "    epoch_count = 10,\n",
    "    batch_size =2,\n",
    "    learning_rate = 0.0001,\n",
    "    training_data = training_data,\n",
    "    input_key = 'query',\n",
    "    output_key = 'response'\n",
    ")\n",
    "for status in operation.wait_bar():\n",
    "    time.sleep(10)"
   ]
  },
  {
   "cell_type": "code",
   "execution_count": 1,
   "metadata": {},
   "outputs": [
    {
     "ename": "NameError",
     "evalue": "name 'operation' is not defined",
     "output_type": "error",
     "traceback": [
      "\u001b[1;31m---------------------------------------------------------------------------\u001b[0m",
      "\u001b[1;31mNameError\u001b[0m                                 Traceback (most recent call last)",
      "Cell \u001b[1;32mIn[1], line 1\u001b[0m\n\u001b[1;32m----> 1\u001b[0m result \u001b[38;5;241m=\u001b[39m \u001b[43moperation\u001b[49m\u001b[38;5;241m.\u001b[39mresult()\n\u001b[0;32m      2\u001b[0m \u001b[38;5;28mprint\u001b[39m(result)\n",
      "\u001b[1;31mNameError\u001b[0m: name 'operation' is not defined"
     ]
    }
   ],
   "source": [
    "result = operation.result()\n",
    "print(result)"
   ]
  },
  {
   "cell_type": "markdown",
   "metadata": {},
   "source": [
    "storing tuned model in 'model'"
   ]
  },
  {
   "cell_type": "code",
   "execution_count": 9,
   "metadata": {},
   "outputs": [],
   "source": [
    "model = genai.GenerativeModel(model_name='tunedModels/mercury-w0aigfuv20g3')"
   ]
  },
  {
   "cell_type": "markdown",
   "metadata": {},
   "source": [
    "tracking loss in model training"
   ]
  },
  {
   "cell_type": "code",
   "execution_count": 10,
   "metadata": {},
   "outputs": [
    {
     "ename": "NameError",
     "evalue": "name 'result' is not defined",
     "output_type": "error",
     "traceback": [
      "\u001b[1;31m---------------------------------------------------------------------------\u001b[0m",
      "\u001b[1;31mNameError\u001b[0m                                 Traceback (most recent call last)",
      "Cell \u001b[1;32mIn[10], line 1\u001b[0m\n\u001b[1;32m----> 1\u001b[0m snapshots \u001b[38;5;241m=\u001b[39m pd\u001b[38;5;241m.\u001b[39mDataFrame(\u001b[43mresult\u001b[49m\u001b[38;5;241m.\u001b[39mtuning_task\u001b[38;5;241m.\u001b[39msnapshots)\n\u001b[0;32m      2\u001b[0m sns\u001b[38;5;241m.\u001b[39mlineplot(data\u001b[38;5;241m=\u001b[39msnapshots, x\u001b[38;5;241m=\u001b[39m\u001b[38;5;124m'\u001b[39m\u001b[38;5;124mepoch\u001b[39m\u001b[38;5;124m'\u001b[39m, y\u001b[38;5;241m=\u001b[39m\u001b[38;5;124m'\u001b[39m\u001b[38;5;124mmean_loss\u001b[39m\u001b[38;5;124m'\u001b[39m)\n",
      "\u001b[1;31mNameError\u001b[0m: name 'result' is not defined"
     ]
    }
   ],
   "source": [
    "snapshots = pd.DataFrame(result.tuning_task.snapshots)\n",
    "sns.lineplot(data=snapshots, x='epoch', y='mean_loss')"
   ]
  },
  {
   "cell_type": "markdown",
   "metadata": {},
   "source": [
    "example:"
   ]
  },
  {
   "cell_type": "code",
   "execution_count": 13,
   "metadata": {},
   "outputs": [
    {
     "name": "stdout",
     "output_type": "stream",
     "text": [
      "I'm your go-to AI for any company-related information. Need data, a report, or even a quick answer? Just ask me, and I'll provide it in a flash. Think of me as your personal assistant, always ready to help you work smarter, not harder.\n"
     ]
    }
   ],
   "source": [
    "\n",
    "result = model.generate_content(\"what do you do?\")\n",
    "print(result.text)"
   ]
  },
  {
   "cell_type": "markdown",
   "metadata": {},
   "source": [
    "defining it as a function"
   ]
  },
  {
   "cell_type": "code",
   "execution_count": 90,
   "metadata": {},
   "outputs": [],
   "source": [
    "def generate_response(prompt):\n",
    "    model = genai.GenerativeModel(model_name = result.name)\n",
    "    response = model.generate_content(prompt)\n",
    "    return response.text"
   ]
  },
  {
   "cell_type": "code",
   "execution_count": 91,
   "metadata": {},
   "outputs": [
    {
     "data": {
      "text/plain": [
       "'Hello! What can I do for you today? Feel free to ask me anything.â'"
      ]
     },
     "execution_count": 91,
     "metadata": {},
     "output_type": "execute_result"
    }
   ],
   "source": [
    "generate_response('hello')"
   ]
  }
 ],
 "metadata": {
  "kernelspec": {
   "display_name": "Python 3",
   "language": "python",
   "name": "python3"
  },
  "language_info": {
   "codemirror_mode": {
    "name": "ipython",
    "version": 3
   },
   "file_extension": ".py",
   "mimetype": "text/x-python",
   "name": "python",
   "nbconvert_exporter": "python",
   "pygments_lexer": "ipython3",
   "version": "3.13.0"
  }
 },
 "nbformat": 4,
 "nbformat_minor": 2
}
